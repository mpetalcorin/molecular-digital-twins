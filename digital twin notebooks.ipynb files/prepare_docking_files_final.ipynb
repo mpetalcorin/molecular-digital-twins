{
 "cells": [
  {
   "cell_type": "markdown",
   "metadata": {},
   "source": [
    "# Prepare Docking Files for LDHA Inhibitors (Enhanced Version)\n",
    "\n",
    "This notebook:\n",
    "- Loads `LDHA_inhibitors_deduplicated.csv`\n",
    "- Generates 3D ligand structures (`.mol`, `.pdb`)\n",
    "- Prepares a placeholder docking results file\n",
    "- Provides instructions for `.pdb` ➔ `.pdbqt` conversion\n"
   ]
  },
  {
   "cell_type": "code",
   "execution_count": null,
   "metadata": {},
   "outputs": [],
   "source": [
    "import pandas as pd\n",
    "from rdkit import Chem\n",
    "from rdkit.Chem import AllChem, rdmolfiles\n",
    "import os"
   ]
  },
  {
   "cell_type": "markdown",
   "metadata": {},
   "source": [
    "## 1. Load Dataset"
   ]
  },
  {
   "cell_type": "code",
   "execution_count": 30,
   "metadata": {},
   "outputs": [
    {
     "data": {
      "text/html": [
       "<div>\n",
       "<style scoped>\n",
       "    .dataframe tbody tr th:only-of-type {\n",
       "        vertical-align: middle;\n",
       "    }\n",
       "\n",
       "    .dataframe tbody tr th {\n",
       "        vertical-align: top;\n",
       "    }\n",
       "\n",
       "    .dataframe thead th {\n",
       "        text-align: right;\n",
       "    }\n",
       "</style>\n",
       "<table border=\"1\" class=\"dataframe\">\n",
       "  <thead>\n",
       "    <tr style=\"text-align: right;\">\n",
       "      <th></th>\n",
       "      <th>Ligand SMILES</th>\n",
       "      <th>IC50 (nM)</th>\n",
       "      <th>class</th>\n",
       "    </tr>\n",
       "  </thead>\n",
       "  <tbody>\n",
       "    <tr>\n",
       "      <th>0</th>\n",
       "      <td>C#CCCCC(=O)Nc1ccc(C(=O)c2ccc(NCc3ccc(-c4ccc(O)...</td>\n",
       "      <td>500.0</td>\n",
       "      <td>1</td>\n",
       "    </tr>\n",
       "    <tr>\n",
       "      <th>1</th>\n",
       "      <td>C#CCN(Cc1ccc(-c2ccc(O)c(C(=O)O)c2)o1)Cc1ccc(-c...</td>\n",
       "      <td>1600.0</td>\n",
       "      <td>0</td>\n",
       "    </tr>\n",
       "    <tr>\n",
       "      <th>2</th>\n",
       "      <td>C#CCNCc1ccc(-c2ccc(O)c(C(=O)O)c2)o1.N</td>\n",
       "      <td>2000.0</td>\n",
       "      <td>0</td>\n",
       "    </tr>\n",
       "    <tr>\n",
       "      <th>3</th>\n",
       "      <td>C#Cc1cc(-c2nn(-c3nc(C(=O)O)cs3)c(CC3CC3)c2Cc2c...</td>\n",
       "      <td>456.0</td>\n",
       "      <td>1</td>\n",
       "    </tr>\n",
       "    <tr>\n",
       "      <th>4</th>\n",
       "      <td>C/C=C/c1cc(-c2nn(-c3nc(C(=O)O)cs3)c(CC3CC3)c2C...</td>\n",
       "      <td>215.8</td>\n",
       "      <td>1</td>\n",
       "    </tr>\n",
       "  </tbody>\n",
       "</table>\n",
       "</div>"
      ],
      "text/plain": [
       "                                       Ligand SMILES  IC50 (nM)  class\n",
       "0  C#CCCCC(=O)Nc1ccc(C(=O)c2ccc(NCc3ccc(-c4ccc(O)...      500.0      1\n",
       "1  C#CCN(Cc1ccc(-c2ccc(O)c(C(=O)O)c2)o1)Cc1ccc(-c...     1600.0      0\n",
       "2              C#CCNCc1ccc(-c2ccc(O)c(C(=O)O)c2)o1.N     2000.0      0\n",
       "3  C#Cc1cc(-c2nn(-c3nc(C(=O)O)cs3)c(CC3CC3)c2Cc2c...      456.0      1\n",
       "4  C/C=C/c1cc(-c2nn(-c3nc(C(=O)O)cs3)c(CC3CC3)c2C...      215.8      1"
      ]
     },
     "execution_count": 30,
     "metadata": {},
     "output_type": "execute_result"
    }
   ],
   "source": [
    "df = pd.read_csv('LDHA_inhibitors_deduplicated.csv')\n",
    "df.head()"
   ]
  },
  {
   "cell_type": "code",
   "execution_count": null,
   "metadata": {},
   "outputs": [],
   "source": [
    "try:\n",
    "    df = pd.read_csv('LDHA_inhibitors_deduplicated.csv')\n",
    "    df = df.dropna(subset=['Ligand SMILES', 'class'])\n",
    "    print(f\"Loaded {len(df)} compounds.\")\n",
    "except FileNotFoundError:\n",
    "    raise FileNotFoundError(\"CSV file not found. Please place 'LDHA_inhibitors_deduplicated.csv' in the data folder.\")\n",
    "print.\n"
   ]
  },
  {
   "cell_type": "markdown",
   "metadata": {},
   "source": [
    "## 2. Prepare Output Folder"
   ]
  },
  {
   "cell_type": "code",
   "execution_count": 22,
   "metadata": {},
   "outputs": [
    {
     "name": "stdout",
     "output_type": "stream",
     "text": [
      "Ligand files will be saved to: docking/ligands\n"
     ]
    }
   ],
   "source": [
    "output_dir = 'docking/ligands'\n",
    "os.makedirs(output_dir, exist_ok=True)\n",
    "print(f'Ligand files will be saved to: {output_dir}')"
   ]
  },
  {
   "cell_type": "markdown",
   "metadata": {},
   "source": [
    "## 3. Generate 3D Structures & Save Files"
   ]
  },
  {
   "cell_type": "code",
   "execution_count": null,
   "metadata": {},
   "outputs": [],
   "source": [
    "for idx, row in df.iterrows():\n",
    "    cmpd_id = row['class']\n",
    "    smiles = row['Ligand SMILES']\n",
    "    try:\n",
    "        mol = Chem.MolFromSmiles(smiles)\n",
    "        if mol is None:\n",
    "            print(f'SKIP: Invalid SMILES for {cmpd_id}')\n",
    "            continue\n",
    "        mol = Chem.AddHs(mol)\n",
    "        res = AllChem.EmbedMolecule(mol, AllChem.ETKDG())\n",
    "        if res != 0:\n",
    "            print(f'WARNING: Embedding may have failed for {cmpd_id}')\n",
    "        AllChem.UFFOptimizeMolecule(mol)\n",
    "\n",
    "        # Save MOL file\n",
    "        mol_path = os.path.join(output_dir, f'{cmpd_id}.mol')\n",
    "        rdmolfiles.MolToMolFile(mol, mol_path)\n",
    "\n",
    "        # Save PDB file\n",
    "        pdb_path = os.path.join(output_dir, f'{cmpd_id}.pdb')\n",
    "        rdmolfiles.MolToPDBFile(mol, pdb_path)\n",
    "\n",
    "        print(f'Successfully saved: {cmpd_id}.mol and {cmpd_id}.pdb')\n",
    "    except Exception as e:\n",
    "        print(f'Error processing {cmpd_id}: {e}')"
   ]
  },
  {
   "cell_type": "markdown",
   "metadata": {},
   "source": [
    "## 4. Prepare Docking Results Placeholder"
   ]
  },
  {
   "cell_type": "code",
   "execution_count": null,
   "metadata": {},
   "outputs": [],
   "source": [
    "placeholder = df[['Compound_ID']].copy()\n",
    "placeholder['Docking_Score'] = None\n",
    "placeholder_path = 'docking_results_placeholder.csv'\n",
    "placeholder.to_csv(placeholder_path, index=False)\n",
    "print(f'Docking results placeholder saved to: {placeholder_path}')"
   ]
  },
  {
   "cell_type": "markdown",
   "metadata": {},
   "source": [
    "## Note:\n",
    "- To convert `.pdb` files to `.pdbqt` format, use OpenBabel from the command line:\n",
    "```\n",
    "obabel CMPD_001.pdb -O CMPD_001.pdbqt\n",
    "```\n",
    "- Repeat for all ligands after generating `.pdb` files."
   ]
  },
  {
   "cell_type": "markdown",
   "metadata": {},
   "source": [
    "**All ligands are prepared and ready for docking.**"
   ]
  }
 ],
 "metadata": {
  "kernelspec": {
   "display_name": "Python [conda env:base] *",
   "language": "python",
   "name": "conda-base-py"
  },
  "language_info": {
   "codemirror_mode": {
    "name": "ipython",
    "version": 3
   },
   "file_extension": ".py",
   "mimetype": "text/x-python",
   "name": "python",
   "nbconvert_exporter": "python",
   "pygments_lexer": "ipython3",
   "version": "3.12.2"
  }
 },
 "nbformat": 4,
 "nbformat_minor": 4
}
